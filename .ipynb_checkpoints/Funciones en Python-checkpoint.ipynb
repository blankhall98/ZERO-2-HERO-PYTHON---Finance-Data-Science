{
 "cells": [
  {
   "cell_type": "markdown",
   "metadata": {},
   "source": [
    "# Funciones en Python\n",
    "### Una breve introducción al mundo de las funciones\n",
    "\n",
    "#### Profesor: Jonatan Blank Hall, Zero2Hero"
   ]
  },
  {
   "cell_type": "code",
   "execution_count": 10,
   "metadata": {},
   "outputs": [],
   "source": [
    "# Primera función: Saludo"
   ]
  },
  {
   "cell_type": "code",
   "execution_count": 13,
   "metadata": {},
   "outputs": [],
   "source": [
    "def Saludo(nombre):\n",
    "    frase = 'Muy buenos días ' + str(nombre) + ', espero se encuentre bien de salud.'\n",
    "    print(frase)"
   ]
  },
  {
   "cell_type": "code",
   "execution_count": 14,
   "metadata": {},
   "outputs": [
    {
     "name": "stdout",
     "output_type": "stream",
     "text": [
      "Muy buenos días Jonatan, espero se encuentre bien de salud.\n"
     ]
    }
   ],
   "source": [
    "Saludo('Jonatan')"
   ]
  },
  {
   "cell_type": "code",
   "execution_count": 15,
   "metadata": {},
   "outputs": [],
   "source": [
    "# segunda función\n",
    "\n",
    "# Cadenero en un antro: Si una mujer quiere entrar al antro, \n",
    "# debe tener al menos 16 años. Si un hombre quiere entrar al antro, debe tener al menos 18 años.\n",
    "\n",
    "#Parámetros\n",
    "#...........\n",
    "#1. sexo (hombre/mujer) --> string\n",
    "#2. edad (0-120) --> int\n",
    "\n",
    "\n",
    "def Cadenero(sexo,edad):\n",
    "    if sexo == 'mujer':\n",
    "        if edad >= 16:\n",
    "            print('Puede pasar')\n",
    "        else:\n",
    "            print('Es usted muy joven, no puede pasar.')\n",
    "    elif sexo == 'hombre':\n",
    "        if edad >= 18:\n",
    "            print('Puede pasar')\n",
    "        else:\n",
    "            print('Es usted muy joven, no puede pasar.')\n",
    "    else:\n",
    "        print('Uno de los parámetros ingresados es incorrecto')\n",
    "        print('Revisa tus respuestas y vuelve a correr el código')"
   ]
  },
  {
   "cell_type": "code",
   "execution_count": 21,
   "metadata": {},
   "outputs": [
    {
     "name": "stdout",
     "output_type": "stream",
     "text": [
      "Puede pasar\n"
     ]
    }
   ],
   "source": [
    "Cadenero('mujer',16)"
   ]
  },
  {
   "cell_type": "code",
   "execution_count": 22,
   "metadata": {},
   "outputs": [],
   "source": [
    "fila = []"
   ]
  },
  {
   "cell_type": "code",
   "execution_count": 23,
   "metadata": {},
   "outputs": [],
   "source": [
    "#funcion para agregar un nuevo cliente a la base de datos\n",
    "def nuevo_cliente(sexo,edad,fila):\n",
    "    nueva_entrada = [sexo,edad]\n",
    "    fila.append(nueva_entrada)\n",
    "    return fila"
   ]
  },
  {
   "cell_type": "code",
   "execution_count": 24,
   "metadata": {},
   "outputs": [],
   "source": [
    "#primer cliente\n",
    "fila = nuevo_cliente('hombre',21,fila)"
   ]
  },
  {
   "cell_type": "code",
   "execution_count": 26,
   "metadata": {},
   "outputs": [],
   "source": [
    "#agregar varios clientes\n",
    "fila = nuevo_cliente('mujer',15,fila)\n",
    "fila = nuevo_cliente('mujer',17,fila)\n",
    "fila = nuevo_cliente('hombre',11,fila)\n",
    "fila = nuevo_cliente('hombre',22,fila)\n",
    "fila = nuevo_cliente('mujer',25,fila)\n",
    "fila = nuevo_cliente('mujer',29,fila)"
   ]
  },
  {
   "cell_type": "code",
   "execution_count": 34,
   "metadata": {},
   "outputs": [
    {
     "data": {
      "text/plain": [
       "[['hombre', 21],\n",
       " ['mujer', 15],\n",
       " ['mujer', 17],\n",
       " ['hombre', 11],\n",
       " ['hombre', 22],\n",
       " ['mujer', 25],\n",
       " ['mujer', 29]]"
      ]
     },
     "execution_count": 34,
     "metadata": {},
     "output_type": "execute_result"
    }
   ],
   "source": [
    "fila"
   ]
  },
  {
   "cell_type": "code",
   "execution_count": 35,
   "metadata": {},
   "outputs": [
    {
     "name": "stdout",
     "output_type": "stream",
     "text": [
      "Puede pasar\n",
      "Es usted muy joven, no puede pasar.\n",
      "Puede pasar\n",
      "Es usted muy joven, no puede pasar.\n",
      "Puede pasar\n",
      "Puede pasar\n",
      "Puede pasar\n"
     ]
    }
   ],
   "source": [
    "for cliente in fila:\n",
    "    Cadenero(cliente[0],cliente[1])"
   ]
  },
  {
   "cell_type": "code",
   "execution_count": 36,
   "metadata": {},
   "outputs": [],
   "source": [
    "#funcion con parámetros cuantitativos"
   ]
  },
  {
   "cell_type": "code",
   "execution_count": 46,
   "metadata": {},
   "outputs": [],
   "source": [
    "def interes_simple_vs_compuesto(monto,tasa,tiempo):\n",
    "    interes_simple = monto*(1+tasa*tiempo)\n",
    "    interes_compuesto = monto*(1+tasa)**tiempo\n",
    "    \n",
    "    print('RESUMEN DE ESTRATEGIA FINANCERA'+'\\n')\n",
    "    print('--------------------')\n",
    "    \n",
    "    print('Parámetros de la estrategia:'+'\\n')\n",
    "    print(f'Monto Inicial: ${monto}')\n",
    "    print(f'Tasa de Interés: {tasa*100}%')\n",
    "    print(f'Tiempo Inversion: {tiempo} meses'+'\\n')\n",
    "    print('--------------------')\n",
    "    \n",
    "    print(f'Interés simple: ${interes_simple}')\n",
    "    print(f'Interés compuesto: ${interes_compuesto}')\n",
    "    \n",
    "    if interes_simple > interes_compuesto:\n",
    "        rendimiento = interes_simple - interes_compuesto\n",
    "        print(f'El interes simple da un mayor rendimiento, por una diferencia de ${rendimiento}')\n",
    "    elif interes_compuesto > interes_simple:\n",
    "        rendimiento = interes_compuesto - interes_simple\n",
    "        print(f'El interes compuesto da un mayor rendimiento, por una diferencia de ${rendimiento}')\n",
    "    else:\n",
    "        print('Ambas estrategias son iguales')\n",
    "    print('--------------------')"
   ]
  },
  {
   "cell_type": "code",
   "execution_count": 50,
   "metadata": {},
   "outputs": [
    {
     "name": "stdout",
     "output_type": "stream",
     "text": [
      "RESUMEN DE ESTRATEGIA FINANCERA\n",
      "\n",
      "--------------------\n",
      "Parámetros de la estrategia:\n",
      "\n",
      "Monto Inicial: $10000\n",
      "Tasa de Interés: 15.0%\n",
      "Tiempo Inversion: 2 meses\n",
      "\n",
      "--------------------\n",
      "Interés simple: $13000.0\n",
      "Interés compuesto: $13224.999999999998\n",
      "El interes compuesto da un mayor rendimiento, por una diferencia de $224.99999999999818\n",
      "--------------------\n"
     ]
    }
   ],
   "source": [
    "interes_simple_vs_compuesto(10000,0.15,2)"
   ]
  }
 ],
 "metadata": {
  "kernelspec": {
   "display_name": "Python 3",
   "language": "python",
   "name": "python3"
  },
  "language_info": {
   "codemirror_mode": {
    "name": "ipython",
    "version": 3
   },
   "file_extension": ".py",
   "mimetype": "text/x-python",
   "name": "python",
   "nbconvert_exporter": "python",
   "pygments_lexer": "ipython3",
   "version": "3.8.5"
  }
 },
 "nbformat": 4,
 "nbformat_minor": 4
}
