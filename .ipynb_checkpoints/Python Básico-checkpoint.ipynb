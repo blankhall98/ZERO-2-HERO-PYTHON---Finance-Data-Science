{
 "cells": [
  {
   "cell_type": "markdown",
   "metadata": {},
   "source": [
    "# Python Zero 2 Hero: Básico\n",
    "### Una introducción a Python & Jupyter Notebook"
   ]
  },
  {
   "cell_type": "markdown",
   "metadata": {},
   "source": [
    "#### Variables"
   ]
  },
  {
   "cell_type": "code",
   "execution_count": 1,
   "metadata": {},
   "outputs": [],
   "source": [
    "x = 5\n",
    "y = \"Jonatan\"\n",
    "z = 1.76"
   ]
  },
  {
   "cell_type": "code",
   "execution_count": 6,
   "metadata": {},
   "outputs": [
    {
     "data": {
      "text/plain": [
       "float"
      ]
     },
     "execution_count": 6,
     "metadata": {},
     "output_type": "execute_result"
    }
   ],
   "source": [
    "type(z)"
   ]
  },
  {
   "cell_type": "markdown",
   "metadata": {},
   "source": [
    "#### Operaciones Lógicas"
   ]
  },
  {
   "cell_type": "code",
   "execution_count": 8,
   "metadata": {},
   "outputs": [
    {
     "data": {
      "text/plain": [
       "True"
      ]
     },
     "execution_count": 8,
     "metadata": {},
     "output_type": "execute_result"
    }
   ],
   "source": [
    "edad = 19\n",
    "sexo = 'femenino'\n",
    "\n",
    "edad > 18 and sexo == \"femenino\""
   ]
  },
  {
   "cell_type": "code",
   "execution_count": 9,
   "metadata": {},
   "outputs": [
    {
     "data": {
      "text/plain": [
       "True"
      ]
     },
     "execution_count": 9,
     "metadata": {},
     "output_type": "execute_result"
    }
   ],
   "source": [
    "salario = 9000\n",
    "horas_trabajo = 7\n",
    "\n",
    "salario > 12000 or horas_trabajo < 8"
   ]
  },
  {
   "cell_type": "markdown",
   "metadata": {},
   "source": [
    "#### Condicionales"
   ]
  },
  {
   "cell_type": "code",
   "execution_count": 17,
   "metadata": {},
   "outputs": [
    {
     "name": "stdout",
     "output_type": "stream",
     "text": [
      "Sexo (mujer/hombre): hombre\n",
      "Edad: 24\n",
      "Entra\n"
     ]
    }
   ],
   "source": [
    "sexo = input('Sexo (mujer/hombre): ')\n",
    "edad = int(input('Edad: '))\n",
    "\n",
    "if sexo == 'mujer':\n",
    "    if edad >= 16:\n",
    "        print('Entra')\n",
    "    else:\n",
    "        print('No entra')\n",
    "elif sexo == 'hombre':\n",
    "    if edad >= 18:\n",
    "        print('Entra')\n",
    "    else:\n",
    "        print('No entra')\n",
    "else:\n",
    "    print('¡Solo hay dos generos!')"
   ]
  },
  {
   "cell_type": "markdown",
   "metadata": {},
   "source": [
    "#### Listas"
   ]
  },
  {
   "cell_type": "code",
   "execution_count": 18,
   "metadata": {},
   "outputs": [],
   "source": [
    "amigos = ['amigo1','amigo2','tom']"
   ]
  },
  {
   "cell_type": "code",
   "execution_count": 21,
   "metadata": {},
   "outputs": [
    {
     "data": {
      "text/plain": [
       "4"
      ]
     },
     "execution_count": 21,
     "metadata": {},
     "output_type": "execute_result"
    }
   ],
   "source": [
    "#longitud de la lista\n",
    "len(amigos)"
   ]
  },
  {
   "cell_type": "code",
   "execution_count": 29,
   "metadata": {},
   "outputs": [],
   "source": [
    "#agregar un elemento a la lista\n",
    "amigos.append('ismael')"
   ]
  },
  {
   "cell_type": "code",
   "execution_count": 22,
   "metadata": {},
   "outputs": [
    {
     "name": "stdout",
     "output_type": "stream",
     "text": [
      "['amigo1', 'amigo2', 'tom', 'hector']\n"
     ]
    }
   ],
   "source": [
    "print(amigos)"
   ]
  },
  {
   "cell_type": "code",
   "execution_count": 27,
   "metadata": {},
   "outputs": [
    {
     "data": {
      "text/plain": [
       "'amigo1'"
      ]
     },
     "execution_count": 27,
     "metadata": {},
     "output_type": "execute_result"
    }
   ],
   "source": [
    "amigos[0]"
   ]
  },
  {
   "cell_type": "markdown",
   "metadata": {},
   "source": [
    "#### ciclos for"
   ]
  },
  {
   "cell_type": "code",
   "execution_count": 32,
   "metadata": {},
   "outputs": [
    {
     "name": "stdout",
     "output_type": "stream",
     "text": [
      "Querido amigo1 te deseo un feliz divorcio!\n",
      "Querido amigo2 te deseo un feliz divorcio!\n",
      "Querido tom te deseo un feliz divorcio!\n",
      "Querido hector te deseo un feliz divorcio!\n",
      "Querido ismael te deseo un feliz divorcio!\n"
     ]
    }
   ],
   "source": [
    "for bro in amigos:\n",
    "    texto = 'Querido ' + bro + ' te deseo un feliz divorcio!'\n",
    "    print(texto)"
   ]
  },
  {
   "cell_type": "code",
   "execution_count": 33,
   "metadata": {},
   "outputs": [
    {
     "data": {
      "text/plain": [
       "5"
      ]
     },
     "execution_count": 33,
     "metadata": {},
     "output_type": "execute_result"
    }
   ],
   "source": [
    "len(amigos)"
   ]
  },
  {
   "cell_type": "code",
   "execution_count": 40,
   "metadata": {},
   "outputs": [
    {
     "name": "stdout",
     "output_type": "stream",
     "text": [
      "amigo1\n",
      "tom\n",
      "ismael\n"
     ]
    }
   ],
   "source": [
    "for i in range(len(amigos)):\n",
    "    if i % 2 == 0:\n",
    "        print(amigos[i])"
   ]
  },
  {
   "cell_type": "code",
   "execution_count": 39,
   "metadata": {},
   "outputs": [
    {
     "name": "stdout",
     "output_type": "stream",
     "text": [
      "amigo1\n",
      "amigo2\n",
      "tom\n",
      "hector\n",
      "ismael\n"
     ]
    }
   ],
   "source": [
    "for num in [0,1,2,3,4]:\n",
    "    print(amigos[num])"
   ]
  },
  {
   "cell_type": "markdown",
   "metadata": {},
   "source": [
    "#### Primer Bot con Inteligencia Artificial"
   ]
  },
  {
   "cell_type": "code",
   "execution_count": 59,
   "metadata": {},
   "outputs": [],
   "source": [
    "gato = ['Gato',500,8]\n",
    "perro = ['Perro',2000,9]\n",
    "hamster = ['Hamster',200,4]\n",
    "tarantula = ['Tarantula',500,2]"
   ]
  },
  {
   "cell_type": "code",
   "execution_count": 60,
   "metadata": {},
   "outputs": [],
   "source": [
    "catalogo = []\n",
    "catalogo.append(gato)\n",
    "catalogo.append(perro)\n",
    "catalogo.append(hamster)\n",
    "catalogo.append(tarantula)"
   ]
  },
  {
   "cell_type": "code",
   "execution_count": 61,
   "metadata": {
    "scrolled": true
   },
   "outputs": [
    {
     "name": "stdout",
     "output_type": "stream",
     "text": [
      "BIENVENIDO A MI CATALOGO\n",
      "\n",
      "----------\n",
      "Nombre animal: Gato\n",
      "Costo: 500\n",
      "Diversion Niños: 8\n",
      "----------\n",
      "----------\n",
      "Nombre animal: Perro\n",
      "Costo: 2000\n",
      "Diversion Niños: 9\n",
      "----------\n",
      "----------\n",
      "Nombre animal: Hamster\n",
      "Costo: 200\n",
      "Diversion Niños: 4\n",
      "----------\n",
      "----------\n",
      "Nombre animal: Tarantula\n",
      "Costo: 500\n",
      "Diversion Niños: 2\n",
      "----------\n"
     ]
    }
   ],
   "source": [
    "print('BIENVENIDO A MI CATALOGO'+'\\n')\n",
    "for animal in catalogo:\n",
    "    nombre_animal = animal[0]\n",
    "    costo_animal = animal[1]\n",
    "    diversion_animal = animal[2]\n",
    "    \n",
    "    print('----------')\n",
    "    print('Nombre animal: '+ nombre_animal)\n",
    "    print('Costo: ' + str(costo_animal))\n",
    "    print('Diversion Niños: ' + str(diversion_animal))\n",
    "    print('----------')"
   ]
  },
  {
   "cell_type": "markdown",
   "metadata": {},
   "source": [
    "#### Tarea 2"
   ]
  },
  {
   "cell_type": "code",
   "execution_count": null,
   "metadata": {},
   "outputs": [],
   "source": [
    "presupuesto_cliente = input()\n",
    "tiene_niños = input()\n",
    "\n",
    "#muestren UNICAMENTE los animales que le alcanzan y si tiene niños, animales con calificiacion mayor a 5"
   ]
  },
  {
   "cell_type": "code",
   "execution_count": 54,
   "metadata": {},
   "outputs": [],
   "source": [
    "nombre = 'Jonatan'\n",
    "apellido = 'Blank'"
   ]
  },
  {
   "cell_type": "code",
   "execution_count": 56,
   "metadata": {},
   "outputs": [
    {
     "name": "stdout",
     "output_type": "stream",
     "text": [
      "Jonatan Blank\n"
     ]
    }
   ],
   "source": [
    "print(nombre+' '+apellido)"
   ]
  },
  {
   "cell_type": "markdown",
   "metadata": {},
   "source": [
    "#### Funciones"
   ]
  },
  {
   "cell_type": "code",
   "execution_count": 1,
   "metadata": {},
   "outputs": [
    {
     "name": "stdout",
     "output_type": "stream",
     "text": [
      "Hola\n"
     ]
    }
   ],
   "source": [
    "print('Hola')"
   ]
  },
  {
   "cell_type": "code",
   "execution_count": 2,
   "metadata": {},
   "outputs": [
    {
     "name": "stdout",
     "output_type": "stream",
     "text": [
      "Nombre: Jonatan\n"
     ]
    }
   ],
   "source": [
    "x = input('Nombre: ')"
   ]
  },
  {
   "cell_type": "code",
   "execution_count": 5,
   "metadata": {},
   "outputs": [],
   "source": [
    "def saludar(nombre):\n",
    "    print(f'¡Hola {nombre}, un gusto de verte de nuevo!')"
   ]
  },
  {
   "cell_type": "code",
   "execution_count": 6,
   "metadata": {},
   "outputs": [
    {
     "name": "stdout",
     "output_type": "stream",
     "text": [
      "¡Hola Jonatan, un gusto de verte de nuevo!\n"
     ]
    }
   ],
   "source": [
    "saludar('Jonatan')"
   ]
  },
  {
   "cell_type": "code",
   "execution_count": 8,
   "metadata": {},
   "outputs": [],
   "source": [
    "def saludar_personas(nombres):\n",
    "    for persona in nombres:\n",
    "        saludar(persona)"
   ]
  },
  {
   "cell_type": "code",
   "execution_count": 9,
   "metadata": {},
   "outputs": [
    {
     "name": "stdout",
     "output_type": "stream",
     "text": [
      "¡Hola Jonatan, un gusto de verte de nuevo!\n",
      "¡Hola José, un gusto de verte de nuevo!\n",
      "¡Hola Maria, un gusto de verte de nuevo!\n"
     ]
    }
   ],
   "source": [
    "saludar_personas(['Jonatan','José','Maria'])"
   ]
  },
  {
   "cell_type": "code",
   "execution_count": 27,
   "metadata": {},
   "outputs": [],
   "source": [
    "def interes_simple(tasa,plazo,monto):\n",
    "    interes = monto*(1+tasa*plazo)\n",
    "    return interes"
   ]
  },
  {
   "cell_type": "code",
   "execution_count": 28,
   "metadata": {},
   "outputs": [
    {
     "data": {
      "text/plain": [
       "1100.0"
      ]
     },
     "execution_count": 28,
     "metadata": {},
     "output_type": "execute_result"
    }
   ],
   "source": [
    "doce_meses = interes_simple(0.1,12,500)\n",
    "doce_meses"
   ]
  },
  {
   "cell_type": "code",
   "execution_count": 15,
   "metadata": {},
   "outputs": [],
   "source": [
    "meses = range(13)"
   ]
  },
  {
   "cell_type": "code",
   "execution_count": 17,
   "metadata": {},
   "outputs": [],
   "source": [
    "valores = []\n",
    "for mes in meses:\n",
    "    valores.append(interes_simple(0.1,mes,500))"
   ]
  },
  {
   "cell_type": "code",
   "execution_count": 19,
   "metadata": {},
   "outputs": [],
   "source": [
    "import matplotlib.pyplot as plt"
   ]
  },
  {
   "cell_type": "code",
   "execution_count": 21,
   "metadata": {},
   "outputs": [
    {
     "data": {
      "text/plain": [
       "[<matplotlib.lines.Line2D at 0x1b2f6d89ca0>]"
      ]
     },
     "execution_count": 21,
     "metadata": {},
     "output_type": "execute_result"
    },
    {
     "data": {
      "image/png": "[encoded data removed]",
      "text/plain": [
       "<Figure size 432x288 with 1 Axes>"
      ]
     },
     "metadata": {
      "needs_background": "light"
     },
     "output_type": "display_data"
    }
   ],
   "source": [
    "plt.plot(meses,valores)"
   ]
  },
  {
   "cell_type": "code",
   "execution_count": 24,
   "metadata": {},
   "outputs": [],
   "source": [
    "def interes_compuesto(monto,tasa,tiempo):\n",
    "    interes = monto*(1+tasa)**tiempo\n",
    "    return interes"
   ]
  },
  {
   "cell_type": "code",
   "execution_count": 26,
   "metadata": {},
   "outputs": [
    {
     "data": {
      "text/plain": [
       "1569.2141883605016"
      ]
     },
     "execution_count": 26,
     "metadata": {},
     "output_type": "execute_result"
    }
   ],
   "source": [
    "interes_compuesto(500,0.1,12)"
   ]
  },
  {
   "cell_type": "code",
   "execution_count": 29,
   "metadata": {},
   "outputs": [],
   "source": [
    "valores_compuesto = []\n",
    "for m in meses:\n",
    "    valores_compuesto.append(interes_compuesto(500,0.1,m))"
   ]
  },
  {
   "cell_type": "code",
   "execution_count": 30,
   "metadata": {},
   "outputs": [
    {
     "data": {
      "text/plain": [
       "[<matplotlib.lines.Line2D at 0x1b2f6e7a640>]"
      ]
     },
     "execution_count": 30,
     "metadata": {},
     "output_type": "execute_result"
    },
    {
     "data": {
      "image/png": "[encoded data removed]",
      "text/plain": [
       "<Figure size 432x288 with 1 Axes>"
      ]
     },
     "metadata": {
      "needs_background": "light"
     },
     "output_type": "display_data"
    }
   ],
   "source": [
    "plt.plot(meses,valores_compuesto)"
   ]
  },
  {
   "cell_type": "markdown",
   "metadata": {},
   "source": [
    "#### Ejemplo Catálogo"
   ]
  },
  {
   "cell_type": "code",
   "execution_count": 31,
   "metadata": {},
   "outputs": [],
   "source": [
    "gato = ['Gato',500,8]\n",
    "perro = ['Perro',2000,9]\n",
    "hamster = ['Hamster',200,4]\n",
    "tarantula = ['Tarantula',500,2]\n",
    "\n",
    "catalogo = []\n",
    "catalogo.append(gato)\n",
    "catalogo.append(perro)\n",
    "catalogo.append(hamster)\n",
    "catalogo.append(tarantula)"
   ]
  },
  {
   "cell_type": "code",
   "execution_count": 32,
   "metadata": {},
   "outputs": [
    {
     "data": {
      "text/plain": [
       "[['Gato', 500, 8],\n",
       " ['Perro', 2000, 9],\n",
       " ['Hamster', 200, 4],\n",
       " ['Tarantula', 500, 2]]"
      ]
     },
     "execution_count": 32,
     "metadata": {},
     "output_type": "execute_result"
    }
   ],
   "source": [
    "catalogo"
   ]
  },
  {
   "cell_type": "code",
   "execution_count": 44,
   "metadata": {},
   "outputs": [],
   "source": [
    "def bot_mascotas(catalogo):\n",
    "    presupuesto_cliente = float(input('Presupuesto: '))\n",
    "    tiene_niños = input('Niños (si/no): ')\n",
    "    \n",
    "    mascotas_para_mostrar = []\n",
    "    \n",
    "    datos_validos = False\n",
    "    \n",
    "    if type(presupuesto_cliente) == float and tiene_niños == 'no' or tiene_niños == 'si':\n",
    "        datos_validos = True\n",
    "    \n",
    "    if datos_validos:\n",
    "        #clasficacion del catalogo\n",
    "        for mascota in catalogo:\n",
    "            if mascota[1] > presupuesto_cliente:\n",
    "                pass\n",
    "            else:\n",
    "                if tiene_niños == 'no':\n",
    "                    mascotas_para_mostrar.append(mascota)\n",
    "                else:\n",
    "                    if mascota[2] >= 5:\n",
    "                        mascotas_para_mostrar.append(mascota)\n",
    "\n",
    "        #consentir al cliente\n",
    "        for mascota in mascotas_para_mostrar:\n",
    "            print(f'La mascota {mascota[0]} con un costo de ${mascota[1]} es perfecta para ti')\n",
    "    else:\n",
    "        print('Ingresa correctamente los datos...')"
   ]
  },
  {
   "cell_type": "code",
   "execution_count": null,
   "metadata": {},
   "outputs": [],
   "source": []
  }
 ],
 "metadata": {
  "kernelspec": {
   "display_name": "Python 3",
   "language": "python",
   "name": "python3"
  },
  "language_info": {
   "codemirror_mode": {
    "name": "ipython",
    "version": 3
   },
   "file_extension": ".py",
   "mimetype": "text/x-python",
   "name": "python",
   "nbconvert_exporter": "python",
   "pygments_lexer": "ipython3",
   "version": "3.8.5"
  }
 },
 "nbformat": 4,
 "nbformat_minor": 4
}
