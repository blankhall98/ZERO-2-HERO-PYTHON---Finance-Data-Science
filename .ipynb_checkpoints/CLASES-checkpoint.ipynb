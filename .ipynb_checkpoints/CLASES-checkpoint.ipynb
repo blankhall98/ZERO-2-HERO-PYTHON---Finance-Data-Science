{
 "cells": [
  {
   "cell_type": "markdown",
   "metadata": {},
   "source": [
    "# Clases en Python\n",
    "### Programación Orientada a Objetos"
   ]
  },
  {
   "cell_type": "code",
   "execution_count": 1,
   "metadata": {},
   "outputs": [],
   "source": [
    "#variables\n",
    "x = 5\n",
    "y = 'hola'"
   ]
  },
  {
   "cell_type": "code",
   "execution_count": 2,
   "metadata": {},
   "outputs": [],
   "source": [
    "#funciones\n",
    "\n",
    "def sumar(a,b):\n",
    "    c = a+b\n",
    "    return c"
   ]
  },
  {
   "cell_type": "code",
   "execution_count": 4,
   "metadata": {},
   "outputs": [],
   "source": [
    "s = sumar(5,10)"
   ]
  },
  {
   "cell_type": "markdown",
   "metadata": {},
   "source": [
    "#### Clases"
   ]
  },
  {
   "cell_type": "code",
   "execution_count": 19,
   "metadata": {},
   "outputs": [],
   "source": [
    "class Pato:\n",
    "    \n",
    "    def __init__(self,color,pico,especie,sexo):\n",
    "        \n",
    "        self.color = color\n",
    "        self.pico = pico\n",
    "        self.especie = especie\n",
    "        self.sexo = sexo\n",
    "        \n",
    "    def sonido(self):\n",
    "        print('Quack Quack!')"
   ]
  },
  {
   "cell_type": "code",
   "execution_count": 21,
   "metadata": {},
   "outputs": [],
   "source": [
    "Lucas = Pato('Negro','Cuadrado','Looney Toones','Masculino')"
   ]
  },
  {
   "cell_type": "code",
   "execution_count": 25,
   "metadata": {},
   "outputs": [],
   "source": [
    "Donald = Pato('Blanco','Rendondo','Disney','Masculino')"
   ]
  },
  {
   "cell_type": "code",
   "execution_count": 24,
   "metadata": {},
   "outputs": [
    {
     "data": {
      "text/plain": [
       "'Cuadrado'"
      ]
     },
     "execution_count": 24,
     "metadata": {},
     "output_type": "execute_result"
    }
   ],
   "source": [
    "Lucas.pico"
   ]
  },
  {
   "cell_type": "code",
   "execution_count": 40,
   "metadata": {},
   "outputs": [],
   "source": [
    "class Estudiante:\n",
    "    \n",
    "    def __init__(self,nombre,carrera,num_cuenta):\n",
    "        self.nombre = nombre\n",
    "        self.carrera = carrera\n",
    "        self.numero_cuenta = num_cuenta\n",
    "        \n",
    "        self.calificacion = 10"
   ]
  },
  {
   "cell_type": "code",
   "execution_count": 41,
   "metadata": {},
   "outputs": [],
   "source": [
    "class Maestra:\n",
    "    \n",
    "    def calificar(self,estudiante,nota):\n",
    "        calificacion_pasada = estudiante.calificacion\n",
    "        nueva_calificacion = (calificacion_pasada+nota)/2\n",
    "        estudiante.calificacion = nueva_calificacion"
   ]
  },
  {
   "cell_type": "code",
   "execution_count": 42,
   "metadata": {},
   "outputs": [],
   "source": [
    "estudiante1 = Estudiante('Carlos','Física','001')\n",
    "estudiante2 = Estudiante('Fanny','Actuaría','002')\n",
    "estudiante3 = Estudiante('Raul','Biología','003')\n",
    "\n",
    "teacher = Maestra()"
   ]
  },
  {
   "cell_type": "markdown",
   "metadata": {},
   "source": [
    "Automatizar una calificación"
   ]
  },
  {
   "cell_type": "code",
   "execution_count": 46,
   "metadata": {},
   "outputs": [
    {
     "name": "stdout",
     "output_type": "stream",
     "text": [
      "CALIFICACIONES PASADAS\n",
      "10.0\n",
      "8.5\n",
      "9.0\n",
      "CALIFICACIONES PRESENTES\n",
      "9.5\n",
      "9.25\n",
      "8.75\n"
     ]
    }
   ],
   "source": [
    "alumnos = [estudiante1,estudiante2,estudiante3]\n",
    "calificaciones = [9,10,8.5]\n",
    "\n",
    "#imprimir calificaciones pasadas\n",
    "print('CALIFICACIONES PASADAS')\n",
    "for a in alumnos:\n",
    "    print(a.calificacion)\n",
    "\n",
    "for i in range(len(alumnos)):\n",
    "    teacher.calificar(alumnos[i],calificaciones[i])\n",
    "    \n",
    "#imprimir calificaciones presentes\n",
    "print('CALIFICACIONES PRESENTES')\n",
    "for a in alumnos:\n",
    "    print(a.calificacion)"
   ]
  },
  {
   "cell_type": "code",
   "execution_count": 38,
   "metadata": {},
   "outputs": [],
   "source": [
    "teacher.calificar(estudiante1,9)"
   ]
  },
  {
   "cell_type": "markdown",
   "metadata": {},
   "source": [
    "### Video Juego Naruto"
   ]
  },
  {
   "cell_type": "markdown",
   "metadata": {},
   "source": [
    "Generación de Ataques"
   ]
  },
  {
   "cell_type": "code",
   "execution_count": 49,
   "metadata": {},
   "outputs": [],
   "source": [
    "import numpy as np"
   ]
  },
  {
   "cell_type": "code",
   "execution_count": 69,
   "metadata": {},
   "outputs": [
    {
     "data": {
      "text/plain": [
       "5.631430049048857"
      ]
     },
     "execution_count": 69,
     "metadata": {},
     "output_type": "execute_result"
    }
   ],
   "source": [
    "#generación numeros aleatorios\n",
    "np.random.random()*10"
   ]
  },
  {
   "cell_type": "code",
   "execution_count": 78,
   "metadata": {},
   "outputs": [],
   "source": [
    "class Personaje:\n",
    "    \n",
    "    def __init__(self,nombre,fuerza,pdv):\n",
    "        self.name = nombre\n",
    "        self.strength = fuerza\n",
    "        self.life = pdv\n",
    "        \n",
    "    def attack(self):\n",
    "        aleatorio = np.random.random()*10\n",
    "        damage = aleatorio*self.strength\n",
    "        return damage\n",
    "    \n",
    "    def report_life(self):\n",
    "        current_life = self.life\n",
    "        player_name = self.name\n",
    "        print(f'{player_name} current health is: {current_life} Health Points')"
   ]
  },
  {
   "cell_type": "code",
   "execution_count": 101,
   "metadata": {},
   "outputs": [],
   "source": [
    "Naruto = Personaje('Naruto Uzumaki',8,200)\n",
    "Sasuke = Personaje('Sasuke Uchiha',20,100)\n",
    "Sakura = Personaje('Sakura Harano',2,120)"
   ]
  },
  {
   "cell_type": "code",
   "execution_count": 97,
   "metadata": {},
   "outputs": [],
   "source": [
    "def Match(player1,player2):\n",
    "    \n",
    "    while player1.life > 0 and player2.life > 0:\n",
    "        \n",
    "        #ataca player1\n",
    "        attack1 = player1.attack()\n",
    "        print(f'{player1.name} attacked {attack1}')\n",
    "        player2.life = player2.life - attack1\n",
    "        \n",
    "        #checar si player2 sigue vivo\n",
    "        if player2.life <= 0:\n",
    "            break\n",
    "        \n",
    "        #ataca player2\n",
    "        attack2 = player2.attack()\n",
    "        print(f'{player2.name} attacked {attack2}')\n",
    "        player1.life = player1.life - attack2\n",
    "    \n",
    "    if player1.life <= 0:\n",
    "        winner_name = player2.name\n",
    "        health_left = player2.life\n",
    "    else:\n",
    "        winner_name = player1.name\n",
    "        health_left = player1.life\n",
    "        \n",
    "    #anunciar ganador\n",
    "    print(f'The winner is {winner_name} with {health_left} Health Points left!')"
   ]
  },
  {
   "cell_type": "code",
   "execution_count": 102,
   "metadata": {},
   "outputs": [
    {
     "name": "stdout",
     "output_type": "stream",
     "text": [
      "Sasuke Uchiha attacked 95.10508010312357\n",
      "Sakura Harano attacked 3.5856478809769476\n",
      "Sasuke Uchiha attacked 183.31876105066328\n",
      "The winner is Sasuke Uchiha with 96.41435211902305 Health Points left!\n"
     ]
    }
   ],
   "source": [
    "Match(Sasuke,Sakura)"
   ]
  },
  {
   "cell_type": "markdown",
   "metadata": {},
   "source": [
    "### Tarea"
   ]
  },
  {
   "cell_type": "markdown",
   "metadata": {},
   "source": [
    "Creen una clase POKEMON, y simulen una batalla pokemon utilizando una funcion 'batalla'"
   ]
  }
 ],
 "metadata": {
  "kernelspec": {
   "display_name": "Python 3",
   "language": "python",
   "name": "python3"
  },
  "language_info": {
   "codemirror_mode": {
    "name": "ipython",
    "version": 3
   },
   "file_extension": ".py",
   "mimetype": "text/x-python",
   "name": "python",
   "nbconvert_exporter": "python",
   "pygments_lexer": "ipython3",
   "version": "3.8.5"
  }
 },
 "nbformat": 4,
 "nbformat_minor": 4
}
