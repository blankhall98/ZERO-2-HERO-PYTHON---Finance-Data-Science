{
 "cells": [
  {
   "cell_type": "markdown",
   "metadata": {},
   "source": [
    "# Personal Finance with Python"
   ]
  },
  {
   "cell_type": "markdown",
   "metadata": {},
   "source": [
    "### Zero 2 Hero! - Finance and Data Science\n",
    "Instructor: J. BlankHall"
   ]
  },
  {
   "cell_type": "markdown",
   "metadata": {},
   "source": [
    "#### Libraries"
   ]
  },
  {
   "cell_type": "code",
   "execution_count": 6,
   "metadata": {},
   "outputs": [],
   "source": [
    "#numeric and data manipulation\n",
    "import numpy as np #numeric manipulation\n",
    "import pandas as pd #dataframe manipulation\n",
    "\n",
    "#graphs\n",
    "import matplotlib.pyplot as plt #graph environment\n",
    "import seaborn as sns #advanced graphs"
   ]
  },
  {
   "cell_type": "markdown",
   "metadata": {},
   "source": [
    "### Finance"
   ]
  },
  {
   "cell_type": "markdown",
   "metadata": {},
   "source": [
    "#### Expenses\n",
    "3 types of expenses:\n",
    "1. fixed: Rent, Light, Gas, Water, Food, etc.\n",
    "2. Variable: Cinema, Alcohol, Restaurants, etc.\n",
    "3. Investment: Insurance, Education, Stocks, Bonds, etc."
   ]
  },
  {
   "cell_type": "code",
   "execution_count": 7,
   "metadata": {},
   "outputs": [],
   "source": [
    "expenses = {\n",
    "    'fixed': 20000,\n",
    "    'variable': 6000,\n",
    "    'investment': 14000\n",
    "}"
   ]
  },
  {
   "cell_type": "code",
   "execution_count": 18,
   "metadata": {},
   "outputs": [
    {
     "name": "stdout",
     "output_type": "stream",
     "text": [
      "40000\n"
     ]
    }
   ],
   "source": []
  },
  {
   "cell_type": "markdown",
   "metadata": {},
   "source": [
    "#### Incomes"
   ]
  },
  {
   "cell_type": "code",
   "execution_count": 8,
   "metadata": {},
   "outputs": [],
   "source": [
    "incomes = {\n",
    "    'fixed': 40000,\n",
    "    'variable': 40000/3\n",
    "}"
   ]
  },
  {
   "cell_type": "markdown",
   "metadata": {},
   "source": [
    "### Personal Finance Class"
   ]
  },
  {
   "cell_type": "markdown",
   "metadata": {},
   "source": [
    "#### Class construction"
   ]
  },
  {
   "cell_type": "code",
   "execution_count": 43,
   "metadata": {},
   "outputs": [],
   "source": [
    "class PersonalFinance:\n",
    "    \n",
    "    def __init__(self,expenses,incomes,initial_savings):\n",
    "        self.expenses = expenses\n",
    "        self.incomes = incomes\n",
    "        self.savings = initial_savings\n",
    "        \n",
    "    def total_expenses(self,report=True):\n",
    "        suma = 0\n",
    "        for k in self.expenses.keys():\n",
    "            suma = suma + self.expenses[k]\n",
    "        if report:\n",
    "            print(f'Total Expenses: {suma}')\n",
    "        return suma\n",
    "        \n",
    "    def total_incomes(self,report=True):\n",
    "        suma = 0\n",
    "        for k in self.incomes.keys():\n",
    "            suma = suma + self.incomes[k]\n",
    "        if report:\n",
    "            print(f'Total Incomes: {suma}')\n",
    "        return suma\n",
    "        \n",
    "    def balance(self,report=True):\n",
    "        e = self.total_expenses(report=False)\n",
    "        i = self.total_incomes(report=False)\n",
    "        s = i - e\n",
    "        self.savings = self.savings + s\n",
    "        if report:\n",
    "            print(f'Saving: {s}')\n",
    "            print(f'Balance: {self.savings}')\n",
    "        \n",
    "    def predict(self,t):\n",
    "        s0 = self.savings\n",
    "        savings_list = [s0]\n",
    "        for i in range(t):\n",
    "            self.balance(report=False)\n",
    "            s = self.savings\n",
    "            savings_list.append(s)\n",
    "        self.savings = s0\n",
    "        \n",
    "        plt.figure(figsize = (6,4))\n",
    "        \n",
    "        plt.title(f'My savings in {t} months')\n",
    "        plt.xlabel('Months')\n",
    "        plt.ylabel('Savings $')\n",
    "        \n",
    "        plt.plot(range(t+1),savings_list)\n",
    "        \n",
    "        plt.show()"
   ]
  },
  {
   "cell_type": "markdown",
   "metadata": {},
   "source": [
    "#### Initialize class"
   ]
  },
  {
   "cell_type": "code",
   "execution_count": 44,
   "metadata": {},
   "outputs": [],
   "source": [
    "pf = PersonalFinance(expenses,incomes,10000)"
   ]
  },
  {
   "cell_type": "code",
   "execution_count": 45,
   "metadata": {},
   "outputs": [
    {
     "data": {
      "image/png": "[encoded data removed]",
      "text/plain": [
       "<Figure size 432x288 with 1 Axes>"
      ]
     },
     "metadata": {
      "needs_background": "light"
     },
     "output_type": "display_data"
    }
   ],
   "source": [
    "pf.predict(36)"
   ]
  }
 ],
 "metadata": {
  "kernelspec": {
   "display_name": "Python 3",
   "language": "python",
   "name": "python3"
  },
  "language_info": {
   "codemirror_mode": {
    "name": "ipython",
    "version": 3
   },
   "file_extension": ".py",
   "mimetype": "text/x-python",
   "name": "python",
   "nbconvert_exporter": "python",
   "pygments_lexer": "ipython3",
   "version": "3.8.5"
  }
 },
 "nbformat": 4,
 "nbformat_minor": 4
}
